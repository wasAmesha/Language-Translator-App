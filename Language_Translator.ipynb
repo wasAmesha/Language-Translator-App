{
  "nbformat": 4,
  "nbformat_minor": 0,
  "metadata": {
    "colab": {
      "provenance": []
    },
    "kernelspec": {
      "name": "python3",
      "display_name": "Python 3"
    },
    "language_info": {
      "name": "python"
    }
  },
  "cells": [
    {
      "cell_type": "markdown",
      "source": [
        "# Language Translation"
      ],
      "metadata": {
        "id": "sRwP_6sQBsNJ"
      }
    },
    {
      "cell_type": "markdown",
      "source": [
        "Language translation is the process of converting text or speech from one language to another while preserving its meaning and context. This involves using linguistic and computational techniques to interpret the source language and generate the equivalent content in the target language. Modern translation methods often employ machine learning models and neural networks for accuracy and fluency."
      ],
      "metadata": {
        "id": "H0xJREs6B281"
      }
    },
    {
      "cell_type": "markdown",
      "source": [
        "# We have two Problems"
      ],
      "metadata": {
        "id": "F5SKmDd9CzvO"
      }
    },
    {
      "cell_type": "markdown",
      "source": [
        "# First Problem: Language Detection"
      ],
      "metadata": {
        "id": "6BLcQXrDC0qR"
      }
    },
    {
      "cell_type": "markdown",
      "source": [
        "The first problem is to know how you can detect language for particular data. In this case, you can use a simple python package called langdetect.\n",
        "\n",
        "Supports 55 languages\n",
        "\n",
        "af, ar, bg, bn, ca, cs, cy, da, de, el, en, es, et, fa, fi, fr, gu, he, hi, hr, hu, id, it, ja, kn, ko, lt, lv, mk, ml,mr, ne, nl, no, pa, pl, pt, ro, ru, sk, sl, so, sq, sv, sw, ta, te, th, tl, tr, uk, ur, vi, zh-cn, zh-tw\n",
        "\n",
        "pip install langdetect"
      ],
      "metadata": {
        "id": "WvIkGhz2DwIz"
      }
    },
    {
      "cell_type": "markdown",
      "source": [
        "# Second Problem: Language Translation"
      ],
      "metadata": {
        "id": "P7KFXTLkFa6t"
      }
    },
    {
      "cell_type": "markdown",
      "source": [
        "The second problem you need to solve is to translate a text from one language to the language of your choice. In this case, you will use another useful python package called google_trans_new.\n",
        "\n",
        "google_trans_new is a free and unlimited python package that implemented Google Translate API and it also performs auto language detection.\n",
        "\n",
        "install google_trans_new\n",
        "\n",
        "but it has some issues so we will use alternatives...\n",
        "\n",
        "pip install googletrans==4.0.0-rc1"
      ],
      "metadata": {
        "id": "Oau7-zEZFoXZ"
      }
    },
    {
      "cell_type": "markdown",
      "source": [
        "# Language Detection"
      ],
      "metadata": {
        "id": "Q6GVGqnDGqlt"
      }
    },
    {
      "cell_type": "code",
      "source": [
        "!pip install langdetect"
      ],
      "metadata": {
        "colab": {
          "base_uri": "https://localhost:8080/"
        },
        "id": "lThemQohRVcB",
        "outputId": "fcd62f29-fb64-4785-bc15-bd6e747c6cbf"
      },
      "execution_count": 2,
      "outputs": [
        {
          "output_type": "stream",
          "name": "stdout",
          "text": [
            "Collecting langdetect\n",
            "  Downloading langdetect-1.0.9.tar.gz (981 kB)\n",
            "\u001b[?25l     \u001b[90m━━━━━━━━━━━━━━━━━━━━━━━━━━━━━━━━━━━━━━━━\u001b[0m \u001b[32m0.0/981.5 kB\u001b[0m \u001b[31m?\u001b[0m eta \u001b[36m-:--:--\u001b[0m\r\u001b[2K     \u001b[91m━━━━━━━━━━━━━━━━━━━━━━━━━━━━━━━━━━━\u001b[0m\u001b[90m╺\u001b[0m\u001b[90m━━━━\u001b[0m \u001b[32m860.2/981.5 kB\u001b[0m \u001b[31m24.9 MB/s\u001b[0m eta \u001b[36m0:00:01\u001b[0m\r\u001b[2K     \u001b[90m━━━━━━━━━━━━━━━━━━━━━━━━━━━━━━━━━━━━━━━━\u001b[0m \u001b[32m981.5/981.5 kB\u001b[0m \u001b[31m16.5 MB/s\u001b[0m eta \u001b[36m0:00:00\u001b[0m\n",
            "\u001b[?25h  Preparing metadata (setup.py) ... \u001b[?25l\u001b[?25hdone\n",
            "Requirement already satisfied: six in /usr/local/lib/python3.10/dist-packages (from langdetect) (1.16.0)\n",
            "Building wheels for collected packages: langdetect\n",
            "  Building wheel for langdetect (setup.py) ... \u001b[?25l\u001b[?25hdone\n",
            "  Created wheel for langdetect: filename=langdetect-1.0.9-py3-none-any.whl size=993221 sha256=39f8b55d3c91a62c59e77f896cb94b4d884f8ed474661c8b2c26fbf91e9a2177\n",
            "  Stored in directory: /root/.cache/pip/wheels/95/03/7d/59ea870c70ce4e5a370638b5462a7711ab78fba2f655d05106\n",
            "Successfully built langdetect\n",
            "Installing collected packages: langdetect\n",
            "Successfully installed langdetect-1.0.9\n"
          ]
        }
      ]
    },
    {
      "cell_type": "code",
      "source": [
        "from langdetect import detect,detect_langs,DetectorFactory\n",
        "\n",
        "DetectorFactory.seed = 0"
      ],
      "metadata": {
        "id": "MSjo1NGqG6WZ"
      },
      "execution_count": 3,
      "outputs": []
    },
    {
      "cell_type": "code",
      "source": [
        "sentence = \"آج کا دن بہت خوبصورت ہے\"\n",
        "\n",
        "print(\"Detect Language :\", detect(sentence))\n",
        "print(\"Probability \",detect_langs(sentence))"
      ],
      "metadata": {
        "colab": {
          "base_uri": "https://localhost:8080/"
        },
        "id": "Ke9d0b04G6S_",
        "outputId": "8ccf1441-ee74-4c41-f427-fe50bf263a6b"
      },
      "execution_count": 4,
      "outputs": [
        {
          "output_type": "stream",
          "name": "stdout",
          "text": [
            "Detect Language : ur\n",
            "Probability  [ur:0.9999992464453258]\n"
          ]
        }
      ]
    },
    {
      "cell_type": "code",
      "source": [
        "sentence = \"आज का दिन बहुत खूबसूरत है\"\n",
        "\n",
        "print(\"Detect Language:\", detect(sentence))\n",
        "print(\"Probability:\", detect_langs(sentence))"
      ],
      "metadata": {
        "colab": {
          "base_uri": "https://localhost:8080/"
        },
        "id": "9R-YliBzG6Q5",
        "outputId": "65f8dbaa-96f5-47e2-fef9-938cafe88da0"
      },
      "execution_count": 5,
      "outputs": [
        {
          "output_type": "stream",
          "name": "stdout",
          "text": [
            "Detect Language: hi\n",
            "Probability: [hi:0.9999977479090416]\n"
          ]
        }
      ]
    },
    {
      "cell_type": "code",
      "source": [
        "sentence = \"it is very pleasant today\"\n",
        "\n",
        "print(\"Detect Language:\", detect(sentence))\n",
        "print(\"Probability:\", detect_langs(sentence))"
      ],
      "metadata": {
        "colab": {
          "base_uri": "https://localhost:8080/"
        },
        "id": "BIXTtmz1G6Oc",
        "outputId": "081e0eff-9619-4ef7-9fd6-7ab35f08f051"
      },
      "execution_count": 6,
      "outputs": [
        {
          "output_type": "stream",
          "name": "stdout",
          "text": [
            "Detect Language: en\n",
            "Probability: [en:0.9999970122854229]\n"
          ]
        }
      ]
    },
    {
      "cell_type": "markdown",
      "source": [
        "# Language Translation"
      ],
      "metadata": {
        "id": "TdcnT3uAG1nR"
      }
    },
    {
      "cell_type": "code",
      "source": [
        "!pip install googletrans==4.0.0-rc1"
      ],
      "metadata": {
        "colab": {
          "base_uri": "https://localhost:8080/"
        },
        "id": "dJPhk78SJskj",
        "outputId": "dd549f7d-a4db-4539-d888-43674d2c199f"
      },
      "execution_count": 7,
      "outputs": [
        {
          "output_type": "stream",
          "name": "stdout",
          "text": [
            "Collecting googletrans==4.0.0-rc1\n",
            "  Downloading googletrans-4.0.0rc1.tar.gz (20 kB)\n",
            "  Preparing metadata (setup.py) ... \u001b[?25l\u001b[?25hdone\n",
            "Collecting httpx==0.13.3 (from googletrans==4.0.0-rc1)\n",
            "  Downloading httpx-0.13.3-py3-none-any.whl.metadata (25 kB)\n",
            "Requirement already satisfied: certifi in /usr/local/lib/python3.10/dist-packages (from httpx==0.13.3->googletrans==4.0.0-rc1) (2024.7.4)\n",
            "Collecting hstspreload (from httpx==0.13.3->googletrans==4.0.0-rc1)\n",
            "  Downloading hstspreload-2024.8.1-py3-none-any.whl.metadata (2.1 kB)\n",
            "Requirement already satisfied: sniffio in /usr/local/lib/python3.10/dist-packages (from httpx==0.13.3->googletrans==4.0.0-rc1) (1.3.1)\n",
            "Collecting chardet==3.* (from httpx==0.13.3->googletrans==4.0.0-rc1)\n",
            "  Downloading chardet-3.0.4-py2.py3-none-any.whl.metadata (3.2 kB)\n",
            "Collecting idna==2.* (from httpx==0.13.3->googletrans==4.0.0-rc1)\n",
            "  Downloading idna-2.10-py2.py3-none-any.whl.metadata (9.1 kB)\n",
            "Collecting rfc3986<2,>=1.3 (from httpx==0.13.3->googletrans==4.0.0-rc1)\n",
            "  Downloading rfc3986-1.5.0-py2.py3-none-any.whl.metadata (6.5 kB)\n",
            "Collecting httpcore==0.9.* (from httpx==0.13.3->googletrans==4.0.0-rc1)\n",
            "  Downloading httpcore-0.9.1-py3-none-any.whl.metadata (4.6 kB)\n",
            "Collecting h11<0.10,>=0.8 (from httpcore==0.9.*->httpx==0.13.3->googletrans==4.0.0-rc1)\n",
            "  Downloading h11-0.9.0-py2.py3-none-any.whl.metadata (8.1 kB)\n",
            "Collecting h2==3.* (from httpcore==0.9.*->httpx==0.13.3->googletrans==4.0.0-rc1)\n",
            "  Downloading h2-3.2.0-py2.py3-none-any.whl.metadata (32 kB)\n",
            "Collecting hyperframe<6,>=5.2.0 (from h2==3.*->httpcore==0.9.*->httpx==0.13.3->googletrans==4.0.0-rc1)\n",
            "  Downloading hyperframe-5.2.0-py2.py3-none-any.whl.metadata (7.2 kB)\n",
            "Collecting hpack<4,>=3.0 (from h2==3.*->httpcore==0.9.*->httpx==0.13.3->googletrans==4.0.0-rc1)\n",
            "  Downloading hpack-3.0.0-py2.py3-none-any.whl.metadata (7.0 kB)\n",
            "Downloading httpx-0.13.3-py3-none-any.whl (55 kB)\n",
            "\u001b[2K   \u001b[90m━━━━━━━━━━━━━━━━━━━━━━━━━━━━━━━━━━━━━━━━\u001b[0m \u001b[32m55.1/55.1 kB\u001b[0m \u001b[31m3.5 MB/s\u001b[0m eta \u001b[36m0:00:00\u001b[0m\n",
            "\u001b[?25hDownloading chardet-3.0.4-py2.py3-none-any.whl (133 kB)\n",
            "\u001b[2K   \u001b[90m━━━━━━━━━━━━━━━━━━━━━━━━━━━━━━━━━━━━━━━━\u001b[0m \u001b[32m133.4/133.4 kB\u001b[0m \u001b[31m8.3 MB/s\u001b[0m eta \u001b[36m0:00:00\u001b[0m\n",
            "\u001b[?25hDownloading httpcore-0.9.1-py3-none-any.whl (42 kB)\n",
            "\u001b[2K   \u001b[90m━━━━━━━━━━━━━━━━━━━━━━━━━━━━━━━━━━━━━━━━\u001b[0m \u001b[32m42.6/42.6 kB\u001b[0m \u001b[31m2.1 MB/s\u001b[0m eta \u001b[36m0:00:00\u001b[0m\n",
            "\u001b[?25hDownloading idna-2.10-py2.py3-none-any.whl (58 kB)\n",
            "\u001b[2K   \u001b[90m━━━━━━━━━━━━━━━━━━━━━━━━━━━━━━━━━━━━━━━━\u001b[0m \u001b[32m58.8/58.8 kB\u001b[0m \u001b[31m3.8 MB/s\u001b[0m eta \u001b[36m0:00:00\u001b[0m\n",
            "\u001b[?25hDownloading h2-3.2.0-py2.py3-none-any.whl (65 kB)\n",
            "\u001b[2K   \u001b[90m━━━━━━━━━━━━━━━━━━━━━━━━━━━━━━━━━━━━━━━━\u001b[0m \u001b[32m65.0/65.0 kB\u001b[0m \u001b[31m3.1 MB/s\u001b[0m eta \u001b[36m0:00:00\u001b[0m\n",
            "\u001b[?25hDownloading rfc3986-1.5.0-py2.py3-none-any.whl (31 kB)\n",
            "Downloading hstspreload-2024.8.1-py3-none-any.whl (1.2 MB)\n",
            "\u001b[2K   \u001b[90m━━━━━━━━━━━━━━━━━━━━━━━━━━━━━━━━━━━━━━━━\u001b[0m \u001b[32m1.2/1.2 MB\u001b[0m \u001b[31m37.3 MB/s\u001b[0m eta \u001b[36m0:00:00\u001b[0m\n",
            "\u001b[?25hDownloading h11-0.9.0-py2.py3-none-any.whl (53 kB)\n",
            "\u001b[2K   \u001b[90m━━━━━━━━━━━━━━━━━━━━━━━━━━━━━━━━━━━━━━━━\u001b[0m \u001b[32m53.6/53.6 kB\u001b[0m \u001b[31m3.9 MB/s\u001b[0m eta \u001b[36m0:00:00\u001b[0m\n",
            "\u001b[?25hDownloading hpack-3.0.0-py2.py3-none-any.whl (38 kB)\n",
            "Downloading hyperframe-5.2.0-py2.py3-none-any.whl (12 kB)\n",
            "Building wheels for collected packages: googletrans\n",
            "  Building wheel for googletrans (setup.py) ... \u001b[?25l\u001b[?25hdone\n",
            "  Created wheel for googletrans: filename=googletrans-4.0.0rc1-py3-none-any.whl size=17397 sha256=9990e48ef703bf623ed4f3c8dfd127a14bc869d98116acc3b9f302bf08734008\n",
            "  Stored in directory: /root/.cache/pip/wheels/c0/59/9f/7372f0cf70160fe61b528532e1a7c8498c4becd6bcffb022de\n",
            "Successfully built googletrans\n",
            "Installing collected packages: rfc3986, hyperframe, hpack, h11, chardet, idna, hstspreload, h2, httpcore, httpx, googletrans\n",
            "  Attempting uninstall: chardet\n",
            "    Found existing installation: chardet 5.2.0\n",
            "    Uninstalling chardet-5.2.0:\n",
            "      Successfully uninstalled chardet-5.2.0\n",
            "  Attempting uninstall: idna\n",
            "    Found existing installation: idna 3.7\n",
            "    Uninstalling idna-3.7:\n",
            "      Successfully uninstalled idna-3.7\n",
            "Successfully installed chardet-3.0.4 googletrans-4.0.0rc1 h11-0.9.0 h2-3.2.0 hpack-3.0.0 hstspreload-2024.8.1 httpcore-0.9.1 httpx-0.13.3 hyperframe-5.2.0 idna-2.10 rfc3986-1.5.0\n"
          ]
        }
      ]
    },
    {
      "cell_type": "code",
      "source": [
        "from googletrans import Translator\n",
        "\n",
        "translator = Translator()"
      ],
      "metadata": {
        "id": "safUYhdKG7Y2"
      },
      "execution_count": 8,
      "outputs": []
    },
    {
      "cell_type": "code",
      "source": [
        "sentence = \"آج کا دن بہت خوبصورت ہے\"\n",
        "translate_text = translator.translate(sentence, src='ur', dest='en')\n",
        "\n",
        "print(\"Translated Text:\", translate_text.text)"
      ],
      "metadata": {
        "colab": {
          "base_uri": "https://localhost:8080/"
        },
        "id": "JVeJ2TFuG7VR",
        "outputId": "367f469b-328a-48d3-e88f-0f4e24b01992"
      },
      "execution_count": 9,
      "outputs": [
        {
          "output_type": "stream",
          "name": "stdout",
          "text": [
            "Translated Text: Today's day is very beautiful\n"
          ]
        }
      ]
    },
    {
      "cell_type": "code",
      "source": [
        "sentence =  \"आज का दिन बहुत खूबसूरत है\"\n",
        "translate_text = translator.translate(sentence, src='hi', dest='en')\n",
        "\n",
        "print(\"Translated Text:\", translate_text.text)"
      ],
      "metadata": {
        "colab": {
          "base_uri": "https://localhost:8080/"
        },
        "id": "igZQJLNXG7Tj",
        "outputId": "f82eddaa-9c25-4d2b-cc9a-920b3086f805"
      },
      "execution_count": 10,
      "outputs": [
        {
          "output_type": "stream",
          "name": "stdout",
          "text": [
            "Translated Text: Today is very beautiful\n"
          ]
        }
      ]
    },
    {
      "cell_type": "markdown",
      "source": [
        "# Detections and translation both"
      ],
      "metadata": {
        "id": "5fWS4DosH8Za"
      }
    },
    {
      "cell_type": "code",
      "source": [
        "from langdetect import detect\n",
        "from googletrans import Translator"
      ],
      "metadata": {
        "id": "AtvjRtfXICHW"
      },
      "execution_count": 11,
      "outputs": []
    },
    {
      "cell_type": "code",
      "source": [
        "def detect_and_translate(text, target_lang):\n",
        "    # Detect language\n",
        "    result_lang = detect(text)\n",
        "\n",
        "    # Translate language\n",
        "    translator = Translator()\n",
        "    translate_text = translator.translate(text, dest=target_lang).text\n",
        "\n",
        "    return result_lang, translate_text"
      ],
      "metadata": {
        "id": "FNmnAqNXICvv"
      },
      "execution_count": 12,
      "outputs": []
    },
    {
      "cell_type": "code",
      "source": [
        "# example 1\n",
        "# Sample sentence in Hindi\n",
        "sentence = \"आज का दिन बहुत खूबसूरत है\"\n",
        "\n",
        "# Detect and translate\n",
        "result_lang, translate_text = detect_and_translate(sentence, target_lang='en')\n",
        "\n",
        "print(\"Language:\", result_lang)\n",
        "print(\"Translation:\", translate_text)"
      ],
      "metadata": {
        "colab": {
          "base_uri": "https://localhost:8080/"
        },
        "id": "0smNwxTbICsN",
        "outputId": "bb3d21f4-62b8-4d9b-af2d-c7580776ef74"
      },
      "execution_count": 13,
      "outputs": [
        {
          "output_type": "stream",
          "name": "stdout",
          "text": [
            "Language: hi\n",
            "Translation: Today is very beautiful\n"
          ]
        }
      ]
    },
    {
      "cell_type": "code",
      "source": [
        "# example 2\n",
        "# Sample sentence in urdu\n",
        "sentence = \"مجھے تم سے پیار ہے\"\n",
        "\n",
        "# Detect and translate\n",
        "result_lang, translate_text = detect_and_translate(sentence, target_lang='en')\n",
        "\n",
        "print(\"Language:\", result_lang)\n",
        "print(\"Translation:\", translate_text)"
      ],
      "metadata": {
        "colab": {
          "base_uri": "https://localhost:8080/"
        },
        "id": "bd8Xue30ICql",
        "outputId": "47f41d89-3d32-43e3-b707-37dae18ce160"
      },
      "execution_count": 14,
      "outputs": [
        {
          "output_type": "stream",
          "name": "stdout",
          "text": [
            "Language: ur\n",
            "Translation: I love you\n"
          ]
        }
      ]
    },
    {
      "cell_type": "code",
      "source": [
        "# example 3\n",
        "# Sample sentence in\n",
        "sentence = \"We are living in the era of technology.\"\n",
        "# Detect and translate\n",
        "result_lang, translate_text = detect_and_translate(sentence, target_lang='ur')\n",
        "\n",
        "print(\"Language:\", result_lang)\n",
        "print(\"Translation:\", translate_text)"
      ],
      "metadata": {
        "colab": {
          "base_uri": "https://localhost:8080/"
        },
        "id": "WpzsETEXIZ4M",
        "outputId": "ee7442d8-5d63-4a96-b71b-d26a85c43559"
      },
      "execution_count": 15,
      "outputs": [
        {
          "output_type": "stream",
          "name": "stdout",
          "text": [
            "Language: en\n",
            "Translation: ہم ٹکنالوجی کے دور میں رہ رہے ہیں۔\n"
          ]
        }
      ]
    }
  ]
}